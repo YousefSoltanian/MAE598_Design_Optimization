{
 "cells": [
  {
   "cell_type": "markdown",
   "id": "a0bc2707",
   "metadata": {},
   "source": [
    "\n",
    "# Design Optimization: HW1\n",
    "\n",
    "## Seyed Yousef Soltanian \n",
    " ### you can find the file at https://github.com/YousefSoltanian/MAE598_Design_Optimization.git"
   ]
  },
  {
   "cell_type": "markdown",
   "id": "d28c7a13",
   "metadata": {},
   "source": [
    "### Problem 1:"
   ]
  },
  {
   "cell_type": "code",
   "execution_count": 2,
   "id": "d44267b9",
   "metadata": {},
   "outputs": [],
   "source": [
    "import numpy as np\n",
    "from scipy.optimize import minimize, LinearConstraint\n"
   ]
  },
  {
   "cell_type": "markdown",
   "id": "0c9449f2",
   "metadata": {},
   "source": [
    "Here we define the given objective function:"
   ]
  },
  {
   "cell_type": "code",
   "execution_count": 27,
   "id": "53c4f0ac",
   "metadata": {},
   "outputs": [],
   "source": [
    "def objective_function(x):\n",
    "    return ((x[0]-x[1])**2 + (x[1]+x[2]-2)**2 + (x[3]-1)**2 + (x[4]-1)**2)"
   ]
  },
  {
   "cell_type": "markdown",
   "id": "9591ba35",
   "metadata": {},
   "source": [
    "Defining all the constraints:"
   ]
  },
  {
   "cell_type": "code",
   "execution_count": 39,
   "id": "eb361806",
   "metadata": {},
   "outputs": [
    {
     "name": "stdout",
     "output_type": "stream",
     "text": [
      " message: Optimization terminated successfully\n",
      " success: True\n",
      "  status: 0\n",
      "     fun: 3.4137934799966376\n",
      "       x: [-7.583e-01  3.792e-01  6.898e-01  6.853e-02  3.792e-01]\n",
      "     nit: 7\n",
      "     jac: [-2.275e+00  4.130e-01 -1.862e+00 -1.863e+00 -1.242e+00]\n",
      "    nfev: 43\n",
      "    njev: 7\n"
     ]
    }
   ],
   "source": [
    "np.random.seed(2)\n",
    "n_x = 5\n",
    "\n",
    "# generating the initial guess:\n",
    "x = np.random.random(n_x)\n",
    "\n",
    "# creating matrix for equality conditions\n",
    "A = np.array([[1,2,0,0,0],[0,0,1,1,-2],[0,1,0,0,-1]])\n",
    "lb=np.zeros((3,))\n",
    "ub=np.zeros((3,))  \n",
    "test = np.ones((5,))\n",
    "\n",
    "# creating constraints\n",
    "constraint = LinearConstraint(A, lb=lb, ub=ub)\n",
    "\n",
    "# creating bounds\n",
    "bounds = [(-10, 10) for n in range(n_x)]\n",
    "\n",
    "#Solving the minimization problem\n",
    "ans = minimize(\n",
    "    objective_function,\n",
    "    x0=10 * np.random.random(n_x),\n",
    "    constraints=constraint,\n",
    "    bounds=bounds,\n",
    ")\n",
    "print(ans)"
   ]
  },
  {
   "cell_type": "markdown",
   "id": "6b3d1cf0",
   "metadata": {},
   "source": [
    "Obviously, by keep running the above cell and changing the initial gues, we can see that the final result is the same.\n",
    "We were expecting this result, because by looking at the objective function, we can easily see that the the function is\n",
    "convex, and we know that a convex function always has a single global optimum."
   ]
  },
  {
   "cell_type": "markdown",
   "id": "a2e65d6c",
   "metadata": {},
   "source": [
    "### Problem 2:"
   ]
  },
  {
   "cell_type": "markdown",
   "id": "0ab836e4",
   "metadata": {},
   "source": [
    "### a)\n",
    "For the gradient and Hessian we can write:\n",
    "\n",
    "$$\n",
    "f(x) = b^Tx + x^TAx\n",
    "$$\n",
    "$$\n",
    "\\nabla{f(x)} = b + (A^T+A)x\n",
    "$$\n",
    "$$\n",
    "Hf(x) = A^T+A\n",
    "$$"
   ]
  },
  {
   "cell_type": "markdown",
   "id": "8652c474",
   "metadata": {},
   "source": [
    "### b)\n",
    "Based on the previous part we can write:\n",
    "\n",
    "$$\n",
    "First order approximation = f(0) + \\nabla{f(0)}^Tx = 0 + (b+0)^T(x + 0) = b^Tx\n",
    "$$\n",
    "$$\n",
    "Second order approximation = f(0) + \\nabla{f(0)}^Tx + \\frac{1}{2}x^THf(0)x\n",
    "$$\n",
    "$$\n",
    "= 0 + (b+0)^T(x + 0) + \\frac{1}{2} x^T(A^T+A)x = b^Tx + \\frac{1}{2}x^T(A^T+A)x\n",
    "$$\n",
    "$$\n",
    "= b^Tx + x^TAx\n",
    "$$\n",
    "\n",
    "Obviously, the first order approximation is not exact and missing the second term. But the second order approximation is exactly equal to the original function, this results is trivial as we now that a second order function only has 2 term in its Teylor series approximation and all other higher order terms are zero!"
   ]
  },
  {
   "cell_type": "markdown",
   "id": "ab13e4b8",
   "metadata": {},
   "source": [
    "### Problem 3:"
   ]
  },
  {
   "cell_type": "markdown",
   "id": "98c66f35",
   "metadata": {},
   "source": [
    "### a)\n",
    "The necessary and sufficient condition for a square matrix A to be positive definite are as below:\n",
    "1. The matrix must be symmetric.\n",
    "2. All eigenvalues are strictly positive."
   ]
  },
  {
   "cell_type": "markdown",
   "id": "15b3463b",
   "metadata": {},
   "source": [
    "### b)\n",
    "The necessary and sufficient condition for a square matrix A to be Full Rank is that all the eigenvalues of the A must be non-zero, basically meaning that all of columns of the A are linearly independent."
   ]
  },
  {
   "cell_type": "markdown",
   "id": "e58571bb",
   "metadata": {},
   "source": [
    "### c)\n",
    "if $ Ay=0 $ , it means that y is in null space of the matrix A, now if we want the equation $ Ax=b $ to have an answer, b should not be in the null space of A and it should be in the column space of A. In another word, b should be orthogonal to the null space of A, which means that b is orthogonal to y, wich results : $b^Ty = 0$."
   ]
  },
  {
   "cell_type": "markdown",
   "id": "55f15876",
   "metadata": {},
   "source": [
    "### Problem 4"
   ]
  },
  {
   "cell_type": "markdown",
   "id": "14d9b79b",
   "metadata": {},
   "source": [
    "For this problem, we can think of a vector x with the lenght of N. $x_i$ represent the amount of food i that we buy. so the cost function to minimize can be written as:\n",
    "$$\n",
    "Minimize_x: \\\n",
    "f(x) =  \\sum_{i=1}^N x_ic_i \n",
    "$$"
   ]
  },
  {
   "cell_type": "markdown",
   "id": "b5aa0d85",
   "metadata": {},
   "source": [
    "But we also do have conditions and constraints, the amount of nutrition that we get from all the food that we buy should be more than the necessary amount of each nutrition that we need for a month. this condition can be written as below:\n",
    "$$\n",
    "Subjected \\ to:\n",
    "\\sum_{i=1}^N a_{ij}x_i >= b_j \n",
    "$$\n"
   ]
  },
  {
   "cell_type": "markdown",
   "id": "001f811e",
   "metadata": {},
   "source": []
  }
 ],
 "metadata": {
  "kernelspec": {
   "display_name": "Dlearning",
   "language": "python",
   "name": "dlearning"
  },
  "language_info": {
   "codemirror_mode": {
    "name": "ipython",
    "version": 3
   },
   "file_extension": ".py",
   "mimetype": "text/x-python",
   "name": "python",
   "nbconvert_exporter": "python",
   "pygments_lexer": "ipython3",
   "version": "3.10.9"
  }
 },
 "nbformat": 4,
 "nbformat_minor": 5
}
